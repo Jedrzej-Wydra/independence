{
 "cells": [
  {
   "cell_type": "code",
   "execution_count": 1,
   "id": "952cc258",
   "metadata": {},
   "outputs": [],
   "source": [
    "import torch\n",
    "import numpy as np\n",
    "from scipy.spatial.distance import pdist, squareform\n",
    "from scipy.linalg import block_diag\n",
    "from scipy.stats import rankdata\n",
    "import time"
   ]
  },
  {
   "cell_type": "code",
   "execution_count": 2,
   "id": "3703485a",
   "metadata": {},
   "outputs": [],
   "source": [
    "n_obs = 100"
   ]
  },
  {
   "cell_type": "code",
   "execution_count": 3,
   "id": "74f295a2",
   "metadata": {},
   "outputs": [],
   "source": [
    "X = np.zeros((n_obs, 30))\n",
    "coef_X = np.zeros((n_obs, 4))\n",
    "xh1 = np.sin(np.linspace(0, 2 * np.pi, num=30))\n",
    "xh2 = np.cos(np.linspace(0, 2 * np.pi, num=30))\n",
    "xh3 = np.sin(2 * np.linspace(0, 2 * np.pi, num=30))\n",
    "xh4 = np.cos(2 * np.linspace(0, 2 * np.pi, num=30))\n",
    "\n",
    "for i in range(n_obs):\n",
    "    coef_X[i, :] = np.array([np.random.normal(1, 1), np.random.normal(9, 1), np.random.normal(9, 1), np.random.normal(6, 1)])\n",
    "    X[i, :] = coef_X[i, 0] * xh1 + coef_X[i, 1] * xh2 + coef_X[i, 2] * xh3 + coef_X[i, 3] * xh4\n",
    "\n",
    "Y = np.zeros((n_obs, 30))\n",
    "coef_Y = np.zeros((n_obs, 4))\n",
    "yh1 = np.sin(np.linspace(0, 2 * np.pi, num=30))\n",
    "yh2 = np.cos(np.linspace(0, 2 * np.pi, num=30))\n",
    "yh3 = np.sin(2 * np.linspace(0, 2 * np.pi, num=30))\n",
    "yh4 = np.cos(2 * np.linspace(0, 2 * np.pi, num=30))\n",
    "\n",
    "for i in range(n_obs):\n",
    "    coef_Y[i, :] = np.array([np.random.normal(2, 1), np.random.normal(0, 1), np.random.normal(2, 1), np.random.normal(3, 1)])\n",
    "    Y[i, :] = coef_Y[i, 0] * yh1 + coef_Y[i, 1] * yh2 + coef_Y[i, 2] * yh3 + coef_Y[i, 3] * yh4\n"
   ]
  },
  {
   "cell_type": "markdown",
   "id": "baca7039",
   "metadata": {},
   "source": [
    "# Najszybsze podejście z R w Pythonie"
   ]
  },
  {
   "cell_type": "code",
   "execution_count": 4,
   "id": "7ec021ee",
   "metadata": {
    "scrolled": true
   },
   "outputs": [],
   "source": [
    "def L_2(x):\n",
    "    odl = pdist(x)\n",
    "    sigma = np.median(odl)\n",
    "    \n",
    "    l_return = np.zeros((x.shape[0], x.shape[0]))\n",
    "    const_1 = 2 * (sigma**2) / (1 + sigma**2)\n",
    "    const_2 = 2 * (sigma**4) / (1 + sigma**2) + 2 * const_1\n",
    "    \n",
    "    norm_2 = squareform(odl**2)\n",
    "    il_sk = np.dot(x, x.T)\n",
    "    \n",
    "    l_return = np.exp(-(norm_2 + const_1 * il_sk) / const_2)\n",
    "    \n",
    "    return l_return\n",
    "\n",
    "def NDIME_3(X, Y, HH):\n",
    "    return np.sum(np.diag(np.dot(np.dot(np.dot(L_2(X), HH), L_2(Y)), HH))) / X.shape[0]**2\n",
    "\n",
    "n = n_obs\n",
    "HH = np.eye(n) - np.outer(np.ones(n), np.ones(n)) / n\n",
    "\n",
    "def perm_test_3(X, Y, B=1000):\n",
    "    n = X.shape[0]\n",
    "    test_statistic = NDIME_3(X, Y, HH)\n",
    "    \n",
    "    results = np.zeros(B)\n",
    "    for i in range(B):\n",
    "        Y_perm = Y[np.random.permutation(n), :]\n",
    "        results[i] = NDIME_3(X, Y_perm, HH)\n",
    "    \n",
    "    p_value = np.mean(results > test_statistic)\n",
    "    \n",
    "    return p_value\n"
   ]
  },
  {
   "cell_type": "code",
   "execution_count": 5,
   "id": "840747cf",
   "metadata": {},
   "outputs": [
    {
     "name": "stdout",
     "output_type": "stream",
     "text": [
      "Execution time: 0.7961181669961661 seconds\n"
     ]
    }
   ],
   "source": [
    "np.random.seed(123)\n",
    "\n",
    "tic = time.perf_counter()\n",
    "results = perm_test_3(X, Y)\n",
    "toc = time.perf_counter()\n",
    "print(f\"Execution time: {toc - tic} seconds\")"
   ]
  },
  {
   "cell_type": "markdown",
   "id": "9f73882c",
   "metadata": {},
   "source": [
    "# GPU"
   ]
  },
  {
   "cell_type": "code",
   "execution_count": 6,
   "id": "95031c64",
   "metadata": {},
   "outputs": [],
   "source": [
    "def L_gpu(x):\n",
    "    x = torch.tensor(x)\n",
    "    odl = torch.cdist(x, x, p=2)\n",
    "    mask = ~torch.triu(torch.ones(odl.size()), diagonal=0).bool()\n",
    "    vector = torch.masked_select(odl, mask)\n",
    "    sigma = torch.median(odl)\n",
    "    \n",
    "    l_return = torch.zeros((x.shape[0], x.shape[0]))\n",
    "    const_1 = 2 * (sigma**2) / (1 + sigma**2)\n",
    "    const_2 = 2 * (sigma**4) / (1 + sigma**2) + 2 * const_1\n",
    "    \n",
    "    norm_2 = odl**2\n",
    "    il_sk = torch.matmul(x, x.T)\n",
    "    \n",
    "    l_return = torch.exp(-(norm_2 + const_1 * il_sk) / const_2)\n",
    "    \n",
    "    return l_return\n",
    "\n",
    "def NDIME_gpu(X, Y, HH):\n",
    "    return torch.sum(torch.diag(torch.matmul(torch.matmul(torch.matmul(L_gpu(X), HH), L_gpu(Y)), HH))) / X.shape[0]**2\n",
    "\n",
    "n = n_obs\n",
    "HH = np.eye(n) - np.outer(np.ones(n), np.ones(n)) / n\n",
    "HH = torch.tensor(HH)\n",
    "\n",
    "def perm_test_gpu(X, Y, B=1000):\n",
    "    n = X.shape[0]\n",
    "    test_statistic = NDIME_gpu(X, Y, HH)\n",
    "    \n",
    "    results = torch.zeros(B)\n",
    "    for i in range(B):\n",
    "        Y_perm = Y[np.random.permutation(n), :]\n",
    "        results[i] = NDIME_gpu(X, Y_perm, HH)\n",
    "    \n",
    "    #p_value = torch.mean(results > test_statistic)\n",
    "    p_value = torch.mean((results > test_statistic).to(torch.float))\n",
    "    \n",
    "    return p_value\n"
   ]
  },
  {
   "cell_type": "code",
   "execution_count": 7,
   "id": "ccd4de42",
   "metadata": {},
   "outputs": [
    {
     "name": "stdout",
     "output_type": "stream",
     "text": [
      "Execution time: 0.6615312079957221 seconds\n"
     ]
    }
   ],
   "source": [
    "np.random.seed(123)\n",
    "\n",
    "tic = time.perf_counter()\n",
    "results = perm_test_gpu(X, Y)\n",
    "toc = time.perf_counter()\n",
    "print(f\"Execution time: {toc - tic} seconds\")"
   ]
  }
 ],
 "metadata": {
  "kernelspec": {
   "display_name": "Python 3 (ipykernel)",
   "language": "python",
   "name": "python3"
  },
  "language_info": {
   "codemirror_mode": {
    "name": "ipython",
    "version": 3
   },
   "file_extension": ".py",
   "mimetype": "text/x-python",
   "name": "python",
   "nbconvert_exporter": "python",
   "pygments_lexer": "ipython3",
   "version": "3.10.0"
  }
 },
 "nbformat": 4,
 "nbformat_minor": 5
}
